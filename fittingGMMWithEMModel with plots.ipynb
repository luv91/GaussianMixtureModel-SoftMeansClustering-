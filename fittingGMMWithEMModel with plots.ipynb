{
 "cells": [
  {
   "cell_type": "code",
   "execution_count": 1,
   "id": "27c786d9",
   "metadata": {},
   "outputs": [
    {
     "name": "stdout",
     "output_type": "stream",
     "text": [
      "Checkpoint passed!\n",
      "Checkpoint passed!\n",
      "Checkpoint passed!\n",
      "Checkpoint passed!\n"
     ]
    },
    {
     "data": {
      "text/plain": [
       "' Running EM Algorithm '"
      ]
     },
     "execution_count": 1,
     "metadata": {},
     "output_type": "execute_result"
    }
   ],
   "source": [
    "\n",
    "# see equations in one-Note\n",
    "\n",
    "import numpy as np                                             # dense matrices\n",
    "import matplotlib.pyplot as plt                                # plotting\n",
    "from scipy.stats import multivariate_normal                    # multivariate Gaussian distribution\n",
    "import copy                                                    # deep copies\n",
    "\n",
    "# image handling library\n",
    "from PIL import Image\n",
    "from io import BytesIO\n",
    "\n",
    "#%% Step 1: Log-Likelihood calculation\n",
    "\n",
    "# mathematical trick to avoid over and underflow: \n",
    "# https://math.stackexchange.com/questions/4480736/computing-the-log-of-a-sum-of-exponentials\n",
    "\n",
    "def log_sum_exp(Z):\n",
    "    \"\"\" Compute log(\\sum_i exp(Z_i)) for some array Z.\"\"\"\n",
    "    return np.max(Z) + np.log(np.sum(np.exp(Z - np.max(Z))))\n",
    "\n",
    "\n",
    "\"\"\" \n",
    "Log likelihood formula for the gaussian mixture model, page 7 of pdf:\n",
    "    https://www.cs.toronto.edu/~jlucas/teaching/csc411/lectures/lec15_16_handout.pdf\n",
    "    \n",
    "    The log likelihood quantifies the probability of observing a given set of \n",
    "    data under a particular setting of the parameters in our model.\n",
    "    \n",
    "    \n",
    "    \"\"\"\n",
    "    \n",
    "def loglikelihood(data, weights, means, covs):\n",
    "    \"\"\" Compute the loglikelihood of the data for a Gaussian mixture model with the given parameters. \"\"\"\n",
    "    \n",
    "    #following page 7 for the overall equation: https://www.cs.toronto.edu/~jlucas/teaching/csc411/lectures/lec15_16_handout.pdf\n",
    "    \n",
    "    num_clusters = len(means)\n",
    "    num_dim = len(data[0])\n",
    "    \n",
    "    ll = 0 \n",
    "    \n",
    "    # outer loop (summation over datapoints in log-likelihood)\n",
    "    for d in data:\n",
    "        \n",
    "        # inner loop will calculate the probability of each data point belonging to \n",
    "        # each Gaussian component (each cluster/distribution that is combined to make the overall \n",
    "        # gaussian mixture model)\n",
    "        \n",
    "        contributionOfDataPointToEachCluster = np.zeros(num_clusters)\n",
    "        \n",
    "        for k in range(num_clusters):\n",
    "            \n",
    "            # check pdf page 61, for equations: https://www.cs.toronto.edu/~urtasun/courses/CSC411_Fall16/13_mog.pdf\n",
    "            #(x-mu); one of the intermediate components\n",
    "            dataPointMinusMeans = np.array(d) - means[k]\n",
    "            \n",
    "            # np.linalg.inv(covs[k]) ==> inverse of covaraince\n",
    "            exponentInNormalDistributionOfDataPoint = np.dot(dataPointMinusMeans.T, \n",
    "                                                             np.dot(np.linalg.inv(covs[k]), dataPointMinusMeans))\n",
    "            \n",
    "            \n",
    "            # # Compute loglikelihood contribution for this data point and this cluster\n",
    "            \n",
    "            contributionOfDataPointToEachCluster[k] += np.log(weights[k])\n",
    "            \n",
    "            contributionOfDataPointToEachCluster[k] -= 1/2* (num_dim * np.log(2*np.pi) + \n",
    "                                                             np.log(np.linalg.det(covs[k])) + \n",
    "                                                             exponentInNormalDistributionOfDataPoint)\n",
    "            \n",
    "        # increment loglikelihood contribution of this data point across all clusters\n",
    "        ll += log_sum_exp(contributionOfDataPointToEachCluster)\n",
    "        \n",
    "    return ll\n",
    "            \n",
    "            \n",
    "            \n",
    "#%% Step 2: E-step: assign cluster responsibilities, given current parameters\n",
    "        \n",
    "\"\"\"\n",
    "E-Step: \n",
    "The first step in the EM algorithm is to compute cluster responsibilities. Let rik denote the\n",
    " responsibility of cluster k for data point i.. \n",
    " \n",
    " SciPy provides a convenient function multivariate_normal.pdf that computes \n",
    " the likelihood of seeing a data point in a multivariate Gaussian distribution. The usage is :\n",
    "     \n",
    "     multivariate_normal.pdf([data point], mean=[mean vector], cov=[covariance matrix])\n",
    " \n",
    "\"\"\"\n",
    "\n",
    "def compute_responsibilities(data, weights, means, covariances):\n",
    "    \n",
    "    '''E-step: compute responsibilities, given the current parameters'''\n",
    "    \n",
    "    num_data = len(data)\n",
    "    \n",
    "    num_clusters = len(means)\n",
    "    \n",
    "    # responsibility is a matrix because it is defined as a responsibility of each data point i\n",
    "    # towards cluster k\n",
    "    resp = np.zeros((num_data, num_clusters))\n",
    "    \n",
    "    # Update resp matrix so that resp[i,k] is the responsibility of cluster k for data point i.\n",
    "    # To compute likelihood of seeing data point i given cluster k, use multivariate_normal.pdf.\n",
    "\n",
    "    for i in range(num_data):\n",
    "        \n",
    "        for k in range(num_clusters):\n",
    "            \n",
    "            resp[i,k] = weights[k] * multivariate_normal.pdf(data[i], mean=means[k], cov=covariances[k])\n",
    "    \n",
    "    \n",
    "    # Add up responsibilities over each data point and normalize\n",
    "    # in normalization addition happens over the clusters k, so axis 1\n",
    "    row_sums = resp.sum(axis = 1)[: , np.newaxis]\n",
    "    \n",
    "    resp = resp/row_sums\n",
    "    \n",
    "    return resp\n",
    "\n",
    "\"\"\" Checkpoint: testing compute_responsibilities function for error\"\"\"\n",
    "\"\"\"\n",
    "covariances=[np.array([[1.5, 0.],[0.,2.5]]), np.array([[1.,1.],[1.,2.]])])\n",
    "say I have two distributions distribution 1 and distributuion2\n",
    "in each distribution i have two colors say red and green\n",
    "\n",
    "so distribution 1 covariance will be: [sigmasquared(red),  sigma(red,green)\n",
    "                                       sigma(green,red), sigmasquared(green)]\n",
    "similar will be for distribution 2 and they are clubbed together\n",
    "\n",
    "since at the end we are looking for a overall gaussian.. (combination of all distributions)\n",
    "\n",
    "\"\"\"\n",
    "resp = compute_responsibilities(data=np.array([[1.,2.],[-1.,-2.]]), weights=np.array([0.3, 0.7]),\n",
    "                                means=[np.array([0.,0.]), np.array([1.,1.])],\n",
    "                                covariances=[np.array([[1.5, 0.],[0.,2.5]]), np.array([[1.,1.],[1.,2.]])])\n",
    "\n",
    "if resp.shape==(2,2) and np.allclose(resp, np.array([[0.10512733, 0.89487267], [0.46468164, 0.53531836]])):\n",
    "    print('Checkpoint passed!')\n",
    "else:\n",
    "    print(\"Error in Implementation\")\n",
    "    \n",
    "#%% Step 3: M-step: Update parameters, given current cluster responsibilities; page 24 for equations: https://www.cs.toronto.edu/~jlucas/teaching/csc411/lectures/lec15_16_handout.pdf\n",
    "\n",
    "\n",
    "\"\"\"\n",
    "Once the cluster responsibilities are computed, we update the parameters \n",
    "(weights, means, and covariances) associated with the clusters.\n",
    "\n",
    "part a: compute soft counts\n",
    "part b: update weights\n",
    "partc: update mean\n",
    "part d: update co-variance\n",
    "\n",
    "\n",
    "\"\"\"\n",
    "\n",
    "\"\"\"\n",
    "Computing soft counts. Before updating the parameters, we first compute what is\n",
    " known as \"soft counts\". The soft count of a cluster is the sum of all cluster responsibilities for that cluster\n",
    "\"\"\"\n",
    "def compute_soft_counts(resp):\n",
    "    \n",
    "    # this will be summed up over each data point. \n",
    "    # see the equation in One_note, part 3 or \n",
    "    #page-24, (https://www.cs.toronto.edu/~jlucas/teaching/csc411/lectures/lec15_16_handout.pdf)\n",
    "    \n",
    "    counts = np.sum(resp, axis = 0)   # dimension 1 by k\n",
    "    \n",
    "    return counts\n",
    "\n",
    "\"\"\"\n",
    "Commpute Weights: The cluster weights show us how much each cluster is represented over all data points.\n",
    "\n",
    "\"\"\"\n",
    "\n",
    "def compute_weights(counts):\n",
    "    \n",
    "    num_clusters = len(counts)\n",
    "    weights = [0.]* num_clusters\n",
    "    \n",
    "    for k in range(num_clusters): # this loop is just to update the kth cluster and not summing over it\n",
    "        \n",
    "        # Update the weight for cluster k using the M-step update rule for the cluster weight\n",
    "        \n",
    "        weights[k] = counts[k]/np.sum(counts)   # np.sum(counts) (summed up over all cluster axis)\n",
    "        \n",
    "        #print(\"np.sum(counts)\",np.sum(counts))\n",
    "    return weights\n",
    "\n",
    "\"\"\" Checkpoint: testing weights function for error\"\"\"\n",
    "\n",
    "resp = compute_responsibilities(data=np.array([[1.,2.],[-1.,-2.],[0,0]]), weights=np.array([0.3, 0.7]),\n",
    "                                means=[np.array([0.,0.]), np.array([1.,1.])],\n",
    "                                covariances=[np.array([[1.5, 0.],[0.,2.5]]), np.array([[1.,1.],[1.,2.]])])\n",
    "counts = compute_soft_counts(resp)\n",
    "weights = compute_weights(counts)\n",
    "\n",
    "\n",
    "\n",
    "if np.allclose(weights, [0.27904865942515705, 0.720951340574843]):\n",
    "    print('Checkpoint passed!')\n",
    "else:\n",
    "    print(\"Error in Implementation\")\n",
    "\n",
    "    \n",
    "\n",
    "\"\"\"\n",
    "\n",
    "Commpute Means: The mean of each cluster is set to the weighted average of\n",
    "                all data points, weighted by the cluster responsibilities..\n",
    "                \n",
    "\"\"\"\n",
    "\n",
    "def compute_means(data, resp, counts):\n",
    "    \n",
    "    num_clusters = len(counts)\n",
    "    num_data = len(data)\n",
    "    means = [np.zeros(len(data[0]))] * num_clusters\n",
    "    \n",
    "    for k in range(num_clusters):  # this loop is just to update the kth cluster and not summing over it\n",
    "        \n",
    "        # Update means for cluster k using the M-step update rule for the mean variables.\n",
    "        \n",
    "        weighted_sum = 0\n",
    "        \n",
    "        # check out the equation. https://www.cs.toronto.edu/~jlucas/teaching/csc411/lectures/lec15_16_handout.pdf\n",
    "        # page 24\n",
    "        for i in range(num_data):\n",
    "            \n",
    "            weighted_sum += data[i]* resp[i][k]\n",
    "            \n",
    "            \n",
    "        means[k] = weighted_sum/counts[k]\n",
    "        \n",
    "    return means\n",
    "    \n",
    "\"\"\" Checkpoint: testing Means function for error\"\"\"\n",
    "\n",
    "data_tmp = np.array([[1.,2.],[-1.,-2.]])\n",
    "resp = compute_responsibilities(data=data_tmp, weights=np.array([0.3, 0.7]),\n",
    "                                means=[np.array([0.,0.]), np.array([1.,1.])],\n",
    "                                covariances=[np.array([[1.5, 0.],[0.,2.5]]), np.array([[1.,1.],[1.,2.]])])\n",
    "counts = compute_soft_counts(resp)\n",
    "means = compute_means(data_tmp, resp, counts)\n",
    "\n",
    "if np.allclose(means, np.array([[-0.6310085, -1.262017], [0.25140299, 0.50280599]])):\n",
    "    print('Checkpoint passed!')\n",
    "else:\n",
    "    print(\"Error in Implementation\")\n",
    "\n",
    "\"\"\"\n",
    "\n",
    "Commpute Co-variance: The covariance of each cluster is set to the weighted average of \n",
    "all outer products, weighted by the cluster responsibilities..\n",
    "Look in page (24): https://www.cs.toronto.edu/~jlucas/teaching/csc411/lectures/lec15_16_handout.pdf\n",
    "                \n",
    "\"\"\"\n",
    "def compute_covariances(data, resp, counts, means):\n",
    "    num_clusters = len(counts)\n",
    "    num_dim = len(data[0])\n",
    "    num_data = len(data)\n",
    "    covariances = [np.zeros((num_dim,num_dim))] * num_clusters\n",
    "    \n",
    "    for k in range(num_clusters):\n",
    "        # Update covariances for cluster k using the M-step update rule for covariance variables.\n",
    "        # This will assign the variable covariances[k] to be the estimate for \\hat{\\Sigma}_k.\n",
    "        weighted_sum = np.zeros((num_dim, num_dim))\n",
    "        for i in range(num_data):\n",
    "            \n",
    "            weighted_sum += resp[i][k]*np.outer(data[i] - means[k], data[i] - means[k])\n",
    "        \n",
    "        covariances[k] = weighted_sum / counts[k]\n",
    "\n",
    "    return covariances\n",
    "\"\"\" Checkpoint: testing Co-varaince function for error\"\"\"\n",
    "data_tmp = np.array([[1.,2.],[-1.,-2.]])\n",
    "resp = compute_responsibilities(data=data_tmp, weights=np.array([0.3, 0.7]),\n",
    "                                means=[np.array([0.,0.]), np.array([1.,1.])],\n",
    "                                covariances=[np.array([[1.5, 0.],[0.,2.5]]), np.array([[1.,1.],[1.,2.]])])\n",
    "counts = compute_soft_counts(resp)\n",
    "means = compute_means(data_tmp, resp, counts)\n",
    "covariances = compute_covariances(data_tmp, resp, counts, means)\n",
    "\n",
    "if np.allclose(covariances[0], np.array([[0.60182827, 1.20365655], [1.20365655, 2.4073131]])) and \\\n",
    "    np.allclose(covariances[1], np.array([[ 0.93679654, 1.87359307], [1.87359307, 3.74718614]])):\n",
    "    print('Checkpoint passed!')\n",
    "else:\n",
    "    print(\"Error in Implementation\")\n",
    "    \n",
    "#%% EM Algorithm\n",
    "\n",
    "\"\"\"\n",
    "1. initialize parameters mean, covariance and weight\n",
    "2. initialize log-likelihood (over mean, co-variance and wiehgt from step 1)\n",
    "\n",
    "3. Give some iteration numbers (max_iter), say equal to 10 or 20, for which E and M-step will run. \n",
    "\n",
    "    3a. E-Step: compute responsibility (using initial weight, mean, covariance and datapoints)\n",
    "    3b. M-Step: compute weights, means, covariances\n",
    "    \n",
    "    3c. compute log-likelihood.  (using  weight, mean, covariance calcualted in M-step and datapoints)\n",
    "    3d. check for convergence (between old log-likelihood and nnew log-likelihood from step 3c).\n",
    "        If converged break\n",
    "    \n",
    "    3e. If not broken, update old log likelihood with the new log likelihood value\n",
    "    \n",
    "\"\"\"\n",
    "def EM(data, init_means, init_covariances, init_weights, maxiter=1000, thresh=1e-4):\n",
    "    \n",
    "    # Make copies of initial parameters, which we will update during each iteration\n",
    "    means = init_means[:]\n",
    "    covariances = init_covariances[:]\n",
    "    weights = init_weights[:]\n",
    "    \n",
    "    # Infer dimensions of dataset and the number of clusters\n",
    "    num_data = len(data)\n",
    "    num_dim = len(data[0])\n",
    "    num_clusters = len(means)\n",
    "    \n",
    "    # Initialize some useful variables\n",
    "    resp = np.zeros((num_data, num_clusters))\n",
    "    ll = loglikelihood(data, weights, means, covariances)\n",
    "    ll_trace = [ll]\n",
    "    \n",
    "    for it in range(maxiter):\n",
    "        if it % 5 == 0:\n",
    "            print(\"Iteration %s\" % it)\n",
    "        \n",
    "        # E-step: compute responsibilities\n",
    "        resp = compute_responsibilities(data, weights, means, covariances)\n",
    "\n",
    "        # M-step\n",
    "        # Compute the total responsibility assigned to each cluster, which will be useful when \n",
    "        # implementing M-steps below. In the lectures this is called N^{soft}\n",
    "        counts = compute_soft_counts(resp)\n",
    "        \n",
    "        # Update the weight for cluster k using the M-step update rule for the cluster weight, \\hat{\\pi}_k.\n",
    "        \n",
    "        weights = compute_weights(counts)\n",
    "        \n",
    "        # Update means for cluster k using the M-step update rule for the mean variables.\n",
    "        # This will assign the variable means[k] to be our estimate for \\hat{\\mu}_k.\n",
    "        \n",
    "        means = compute_means(data, resp, counts)\n",
    "        \n",
    "        # Update covariances for cluster k using the M-step update rule for covariance variables.\n",
    "        # This will assign the variable covariances[k] to be the estimate for \\hat{\\Sigma}_k.\n",
    "        \n",
    "        covariances = compute_covariances(data, resp, counts, means)\n",
    "        \n",
    "        # Compute the loglikelihood at this iteration\n",
    "       \n",
    "        ll_latest = loglikelihood(data, weights, means, covariances)\n",
    "        ll_trace.append(ll_latest)\n",
    "        \n",
    "        # Check for convergence in log-likelihood and store\n",
    "        if (ll_latest - ll) < thresh and ll_latest > -np.inf:\n",
    "            break\n",
    "        ll = ll_latest\n",
    "    \n",
    "    if it % 5 != 0:\n",
    "        print(\"Iteration %s\" % it)\n",
    "    \n",
    "    out = {'weights': weights, 'means': means, 'covs': covariances, 'loglik': ll_trace, 'resp': resp}\n",
    "\n",
    "    return out\n",
    "\n",
    "\"\"\" Running EM Algorithm \"\"\"\n",
    "# =============================================================================\n",
    "# np.random.seed(4)\n",
    "# \n",
    "# # Initialization of parameters\n",
    "# chosen = np.random.choice(len(data), 3, replace=False)\n",
    "# initial_means = [data[x] for x in chosen]\n",
    "# initial_covs = [np.cov(data, rowvar=0)] * 3\n",
    "# initial_weights = [1/3.] * 3\n",
    "# \n",
    "# # Run EM \n",
    "# results = EM(data, initial_means, initial_covs, initial_weights)\n",
    "# =============================================================================\n"
   ]
  },
  {
   "cell_type": "code",
   "execution_count": 13,
   "id": "2047124b",
   "metadata": {},
   "outputs": [],
   "source": [
    "# The function then iterates num_data times to generate the required number of data points:\n",
    "\n",
    "# a. The np.random.choice function is used to randomly choose a cluster index k. \n",
    "# The choice is based on the probability distribution specified by weights. \n",
    "# This means that clusters with higher weights will have a higher chance of \n",
    "# being chosen to generate a data point.\n",
    "\n",
    "# b. After selecting a cluster index k, the np.random.multivariate_normal function\n",
    "# is used to generate a data point x from the Gaussian distribution specified by \n",
    "# the mean (means[k]) and covariance (covariances[k]) of the chosen cluster.\n",
    "\n",
    "# c. The generated data point x is then appended to the data list.\n",
    "\n",
    "\n",
    "def generate_MoG_data(num_data, means, covariances, weights):\n",
    "    \"\"\" Creates a list of data points \"\"\"\n",
    "    num_clusters = len(weights)\n",
    "    data = []\n",
    "    for i in range(num_data):\n",
    "        #  Use np.random.choice and weights to pick a cluster id greater than or equal to 0 and less than num_clusters.\n",
    "        k = np.random.choice(len(weights), 1, p=weights)[0]\n",
    "        #print(\"Line 8: k\", k)\n",
    "\n",
    "        # Use np.random.multivariate_normal to create data from this cluster\n",
    "        x = np.random.multivariate_normal(means[k], covariances[k])\n",
    "\n",
    "        data.append(x)\n",
    "    return data"
   ]
  },
  {
   "cell_type": "code",
   "execution_count": 14,
   "id": "bfc85419",
   "metadata": {},
   "outputs": [],
   "source": [
    "# Model parameters\n",
    "init_means = [\n",
    "    [5, 0], # mean of cluster 1\n",
    "    [1, 1], # mean of cluster 2\n",
    "    [0, 5]  # mean of cluster 3\n",
    "]\n",
    "init_covariances = [\n",
    "    [[.5, 0.], [0, .5]], # covariance of cluster 1\n",
    "    [[.92, .38], [.38, .91]], # covariance of cluster 2\n",
    "    [[.5, 0.], [0, .5]]  # covariance of cluster 3\n",
    "]\n",
    "init_weights = [1/4., 1/2., 1/4.]  # weights of each cluster\n",
    "\n",
    "# Generate data\n",
    "np.random.seed(4)\n",
    "data = generate_MoG_data(100, init_means, init_covariances, init_weights)"
   ]
  },
  {
   "cell_type": "code",
   "execution_count": 15,
   "id": "3da25135",
   "metadata": {},
   "outputs": [
    {
     "data": {
      "image/png": "[encoded data removed]",
      "text/plain": [
       "<Figure size 640x480 with 1 Axes>"
      ]
     },
     "metadata": {},
     "output_type": "display_data"
    }
   ],
   "source": [
    "plt.figure()\n",
    "d = np.vstack(data)\n",
    "plt.plot(d[:,0], d[:,1],'ko')\n",
    "plt.rcParams.update({'font.size':16})\n",
    "plt.tight_layout()"
   ]
  },
  {
   "cell_type": "code",
   "execution_count": 16,
   "id": "a53a7e73",
   "metadata": {},
   "outputs": [
    {
     "data": {
      "application/vnd.plotly.v1+json": {
       "config": {
        "plotlyServerURL": "https://plot.ly"
       },
       "data": [
        {
         "marker": {
          "color": "black"
         },
         "mode": "markers",
         "type": "scatter",
         "x": [
          0.3184536753161593,
          1.4502933864162864,
          1.026454310084902,
          5.234936251107958,
          4.6571074303025535,
          0.4374655324254804,
          -0.1275637335410391,
          4.182007377317207,
          1.6564667176545735,
          -0.6950800639820207,
          6.0134801391760275,
          0.20099208046698847,
          -0.3826822200047082,
          5.033945542927854,
          1.5388911872676638,
          0.8144861668441575,
          1.7219242968306172,
          4.907577863721775,
          0.6051206574714367,
          1.308678649673432,
          0.19570654451694233,
          3.970781806990217,
          0.4719077699164933,
          1.3215701709396734,
          3.899884594242504,
          0.11205488420411017,
          0.4071731523909162,
          0.5623153181748621,
          1.8211351536378146,
          -0.7757823236462338,
          0.4503246869568499,
          2.250244308798341,
          1.4715778937648225,
          -0.04209930489300073,
          1.183488823964057,
          5.522019538589874,
          0.6901211520024002,
          0.021260637387977177,
          5.32547107387108,
          2.5860545202426644,
          0.18216100303960195,
          0.11836846389189448,
          0.6608353243427534,
          1.9165933424589707,
          0.2848770609414489,
          0.47644960381392076,
          3.1045328669345094,
          -0.8537610534618991,
          0.08542074405839063,
          0.21418408274369993,
          -0.29932464458974967,
          2.2583590399691547,
          4.7735826316203465,
          0.7309344410594387,
          0.3925048707335872,
          0.8949198007386893,
          -0.2576700109384761,
          0.5504276741516845,
          -0.34493740933826084,
          4.716325151834037,
          1.678200520514591,
          1.486216903371305,
          5.466251268448635,
          -1.3384604843111583,
          0.014584549689281188,
          1.496051160209164,
          5.759631759161124,
          1.7038059134067731,
          4.763285451297276,
          0.8945073048230913,
          1.6127983081204125,
          -0.20028537305943783,
          -0.7914769481995888,
          1.3333780843530982,
          1.8154564282439223,
          1.0289401910634917,
          -0.191420104889179,
          1.455892257786041,
          2.2360344304803688,
          0.32608726280511346,
          -0.18786611015283242,
          4.299318541994496,
          0.49849313474511137,
          -0.8336477967955469,
          -0.5779509136103516,
          1.8329299305721931,
          1.0173680637851088,
          0.4849306430764583,
          -0.47669161504140656,
          0.9649431222513726,
          1.0499915114711693,
          1.174589205389432,
          0.046383556107638196,
          1.667424785981581,
          0.9437238941641181,
          5.63522868277856,
          0.5269967918061942,
          4.804266367153077,
          -0.0032154069033205612,
          1.389491646685452
         ],
         "y": [
          5.031820987994134,
          2.1571757338038555,
          4.760423750357582,
          -0.8113885084088557,
          -0.0853235111327005,
          4.937783846314816,
          5.142962934635237,
          0.24819246712183082,
          -0.879913691115459,
          5.038489758770109,
          1.8772266609008628,
          -0.9321320348336188,
          0.26365373562872096,
          -1.6674098564396704,
          -0.12731715062251725,
          1.6354370877015885,
          0.28460714616963345,
          0.5671608835962734,
          4.875551245933439,
          -0.5871104472980668,
          5.7383661173299085,
          0.39328234274399526,
          1.4763730921310587,
          0.5648636844960819,
          0.92433203507217,
          6.40720119597291,
          1.671344853831941,
          5.013498641517735,
          0.7889222287183857,
          4.62650897770956,
          -1.0109958300596937,
          0.6483292058156411,
          1.683870468559705,
          0.5092315782574983,
          0.5697822783586981,
          0.46015202253477294,
          1.4008522100124239,
          4.762284955695681,
          1.4685636915057174,
          2.1194444802427475,
          4.445777113392441,
          -0.33361633377170374,
          1.0387914129700249,
          0.6373938121529866,
          4.566536604102805,
          5.725813269072339,
          2.199974231165399,
          4.173894019133064,
          4.387816141851451,
          5.601314323068712,
          4.625746833073183,
          1.1068076049870847,
          -0.06002466152925507,
          1.4022008203750376,
          0.5713356216439031,
          1.930078804528788,
          4.118516191402143,
          0.2176290381999566,
          4.5709877551156435,
          0.6329343750026635,
          1.291119177180072,
          -0.07691203922584045,
          0.011842579092871827,
          -0.2004755468240218,
          5.568591603765425,
          4.829404355670757,
          -0.13066323365962937,
          1.3137612857496417,
          -0.33344549336700563,
          -1.1303624329297666,
          0.6679290853588488,
          5.034985199051299,
          4.724036141413251,
          1.4279489993033267,
          2.3705276827286923,
          3.2126240124751217,
          4.030204137623865,
          0.8532913947032877,
          0.8771009704246349,
          0.09240739174912616,
          5.850995965791804,
          1.3542873747822297,
          0.6844437722055008,
          5.817455081486682,
          -1.66742630110895,
          0.7963827048263876,
          0.8455941040063986,
          0.45675926385983534,
          3.9154216702630626,
          0.6566317527751071,
          0.3835034870309848,
          0.730662382334542,
          4.861969432474718,
          1.541811870971261,
          1.3211704706276415,
          -0.013884904893185392,
          5.373017386379516,
          0.8017483025667462,
          0.20836910409903864,
          0.9502054525359745
         ]
        }
       ],
       "layout": {
        "font": {
         "size": 16
        },
        "template": {
         "data": {
          "bar": [
           {
            "error_x": {
             "color": "#2a3f5f"
            },
            "error_y": {
             "color": "#2a3f5f"
            },
            "marker": {
             "line": {
              "color": "#E5ECF6",
              "width": 0.5
             },
             "pattern": {
              "fillmode": "overlay",
              "size": 10,
              "solidity": 0.2
             }
            },
            "type": "bar"
           }
          ],
          "barpolar": [
           {
            "marker": {
             "line": {
              "color": "#E5ECF6",
              "width": 0.5
             },
             "pattern": {
              "fillmode": "overlay",
              "size": 10,
              "solidity": 0.2
             }
            },
            "type": "barpolar"
           }
          ],
          "carpet": [
           {
            "aaxis": {
             "endlinecolor": "#2a3f5f",
             "gridcolor": "white",
             "linecolor": "white",
             "minorgridcolor": "white",
             "startlinecolor": "#2a3f5f"
            },
            "baxis": {
             "endlinecolor": "#2a3f5f",
             "gridcolor": "white",
             "linecolor": "white",
             "minorgridcolor": "white",
             "startlinecolor": "#2a3f5f"
            },
            "type": "carpet"
           }
          ],
          "choropleth": [
           {
            "colorbar": {
             "outlinewidth": 0,
             "ticks": ""
            },
            "type": "choropleth"
           }
          ],
          "contour": [
           {
            "colorbar": {
             "outlinewidth": 0,
             "ticks": ""
            },
            "colorscale": [
             [
              0,
              "#0d0887"
             ],
             [
              0.1111111111111111,
              "#46039f"
             ],
             [
              0.2222222222222222,
              "#7201a8"
             ],
             [
              0.3333333333333333,
              "#9c179e"
             ],
             [
              0.4444444444444444,
              "#bd3786"
             ],
             [
              0.5555555555555556,
              "#d8576b"
             ],
             [
              0.6666666666666666,
              "#ed7953"
             ],
             [
              0.7777777777777778,
              "#fb9f3a"
             ],
             [
              0.8888888888888888,
              "#fdca26"
             ],
             [
              1,
              "#f0f921"
             ]
            ],
            "type": "contour"
           }
          ],
          "contourcarpet": [
           {
            "colorbar": {
             "outlinewidth": 0,
             "ticks": ""
            },
            "type": "contourcarpet"
           }
          ],
          "heatmap": [
           {
            "colorbar": {
             "outlinewidth": 0,
             "ticks": ""
            },
            "colorscale": [
             [
              0,
              "#0d0887"
             ],
             [
              0.1111111111111111,
              "#46039f"
             ],
             [
              0.2222222222222222,
              "#7201a8"
             ],
             [
              0.3333333333333333,
              "#9c179e"
             ],
             [
              0.4444444444444444,
              "#bd3786"
             ],
             [
              0.5555555555555556,
              "#d8576b"
             ],
             [
              0.6666666666666666,
              "#ed7953"
             ],
             [
              0.7777777777777778,
              "#fb9f3a"
             ],
             [
              0.8888888888888888,
              "#fdca26"
             ],
             [
              1,
              "#f0f921"
             ]
            ],
            "type": "heatmap"
           }
          ],
          "heatmapgl": [
           {
            "colorbar": {
             "outlinewidth": 0,
             "ticks": ""
            },
            "colorscale": [
             [
              0,
              "#0d0887"
             ],
             [
              0.1111111111111111,
              "#46039f"
             ],
             [
              0.2222222222222222,
              "#7201a8"
             ],
             [
              0.3333333333333333,
              "#9c179e"
             ],
             [
              0.4444444444444444,
              "#bd3786"
             ],
             [
              0.5555555555555556,
              "#d8576b"
             ],
             [
              0.6666666666666666,
              "#ed7953"
             ],
             [
              0.7777777777777778,
              "#fb9f3a"
             ],
             [
              0.8888888888888888,
              "#fdca26"
             ],
             [
              1,
              "#f0f921"
             ]
            ],
            "type": "heatmapgl"
           }
          ],
          "histogram": [
           {
            "marker": {
             "pattern": {
              "fillmode": "overlay",
              "size": 10,
              "solidity": 0.2
             }
            },
            "type": "histogram"
           }
          ],
          "histogram2d": [
           {
            "colorbar": {
             "outlinewidth": 0,
             "ticks": ""
            },
            "colorscale": [
             [
              0,
              "#0d0887"
             ],
             [
              0.1111111111111111,
              "#46039f"
             ],
             [
              0.2222222222222222,
              "#7201a8"
             ],
             [
              0.3333333333333333,
              "#9c179e"
             ],
             [
              0.4444444444444444,
              "#bd3786"
             ],
             [
              0.5555555555555556,
              "#d8576b"
             ],
             [
              0.6666666666666666,
              "#ed7953"
             ],
             [
              0.7777777777777778,
              "#fb9f3a"
             ],
             [
              0.8888888888888888,
              "#fdca26"
             ],
             [
              1,
              "#f0f921"
             ]
            ],
            "type": "histogram2d"
           }
          ],
          "histogram2dcontour": [
           {
            "colorbar": {
             "outlinewidth": 0,
             "ticks": ""
            },
            "colorscale": [
             [
              0,
              "#0d0887"
             ],
             [
              0.1111111111111111,
              "#46039f"
             ],
             [
              0.2222222222222222,
              "#7201a8"
             ],
             [
              0.3333333333333333,
              "#9c179e"
             ],
             [
              0.4444444444444444,
              "#bd3786"
             ],
             [
              0.5555555555555556,
              "#d8576b"
             ],
             [
              0.6666666666666666,
              "#ed7953"
             ],
             [
              0.7777777777777778,
              "#fb9f3a"
             ],
             [
              0.8888888888888888,
              "#fdca26"
             ],
             [
              1,
              "#f0f921"
             ]
            ],
            "type": "histogram2dcontour"
           }
          ],
          "mesh3d": [
           {
            "colorbar": {
             "outlinewidth": 0,
             "ticks": ""
            },
            "type": "mesh3d"
           }
          ],
          "parcoords": [
           {
            "line": {
             "colorbar": {
              "outlinewidth": 0,
              "ticks": ""
             }
            },
            "type": "parcoords"
           }
          ],
          "pie": [
           {
            "automargin": true,
            "type": "pie"
           }
          ],
          "scatter": [
           {
            "fillpattern": {
             "fillmode": "overlay",
             "size": 10,
             "solidity": 0.2
            },
            "type": "scatter"
           }
          ],
          "scatter3d": [
           {
            "line": {
             "colorbar": {
              "outlinewidth": 0,
              "ticks": ""
             }
            },
            "marker": {
             "colorbar": {
              "outlinewidth": 0,
              "ticks": ""
             }
            },
            "type": "scatter3d"
           }
          ],
          "scattercarpet": [
           {
            "marker": {
             "colorbar": {
              "outlinewidth": 0,
              "ticks": ""
             }
            },
            "type": "scattercarpet"
           }
          ],
          "scattergeo": [
           {
            "marker": {
             "colorbar": {
              "outlinewidth": 0,
              "ticks": ""
             }
            },
            "type": "scattergeo"
           }
          ],
          "scattergl": [
           {
            "marker": {
             "colorbar": {
              "outlinewidth": 0,
              "ticks": ""
             }
            },
            "type": "scattergl"
           }
          ],
          "scattermapbox": [
           {
            "marker": {
             "colorbar": {
              "outlinewidth": 0,
              "ticks": ""
             }
            },
            "type": "scattermapbox"
           }
          ],
          "scatterpolar": [
           {
            "marker": {
             "colorbar": {
              "outlinewidth": 0,
              "ticks": ""
             }
            },
            "type": "scatterpolar"
           }
          ],
          "scatterpolargl": [
           {
            "marker": {
             "colorbar": {
              "outlinewidth": 0,
              "ticks": ""
             }
            },
            "type": "scatterpolargl"
           }
          ],
          "scatterternary": [
           {
            "marker": {
             "colorbar": {
              "outlinewidth": 0,
              "ticks": ""
             }
            },
            "type": "scatterternary"
           }
          ],
          "surface": [
           {
            "colorbar": {
             "outlinewidth": 0,
             "ticks": ""
            },
            "colorscale": [
             [
              0,
              "#0d0887"
             ],
             [
              0.1111111111111111,
              "#46039f"
             ],
             [
              0.2222222222222222,
              "#7201a8"
             ],
             [
              0.3333333333333333,
              "#9c179e"
             ],
             [
              0.4444444444444444,
              "#bd3786"
             ],
             [
              0.5555555555555556,
              "#d8576b"
             ],
             [
              0.6666666666666666,
              "#ed7953"
             ],
             [
              0.7777777777777778,
              "#fb9f3a"
             ],
             [
              0.8888888888888888,
              "#fdca26"
             ],
             [
              1,
              "#f0f921"
             ]
            ],
            "type": "surface"
           }
          ],
          "table": [
           {
            "cells": {
             "fill": {
              "color": "#EBF0F8"
             },
             "line": {
              "color": "white"
             }
            },
            "header": {
             "fill": {
              "color": "#C8D4E3"
             },
             "line": {
              "color": "white"
             }
            },
            "type": "table"
           }
          ]
         },
         "layout": {
          "annotationdefaults": {
           "arrowcolor": "#2a3f5f",
           "arrowhead": 0,
           "arrowwidth": 1
          },
          "autotypenumbers": "strict",
          "coloraxis": {
           "colorbar": {
            "outlinewidth": 0,
            "ticks": ""
           }
          },
          "colorscale": {
           "diverging": [
            [
             0,
             "#8e0152"
            ],
            [
             0.1,
             "#c51b7d"
            ],
            [
             0.2,
             "#de77ae"
            ],
            [
             0.3,
             "#f1b6da"
            ],
            [
             0.4,
             "#fde0ef"
            ],
            [
             0.5,
             "#f7f7f7"
            ],
            [
             0.6,
             "#e6f5d0"
            ],
            [
             0.7,
             "#b8e186"
            ],
            [
             0.8,
             "#7fbc41"
            ],
            [
             0.9,
             "#4d9221"
            ],
            [
             1,
             "#276419"
            ]
           ],
           "sequential": [
            [
             0,
             "#0d0887"
            ],
            [
             0.1111111111111111,
             "#46039f"
            ],
            [
             0.2222222222222222,
             "#7201a8"
            ],
            [
             0.3333333333333333,
             "#9c179e"
            ],
            [
             0.4444444444444444,
             "#bd3786"
            ],
            [
             0.5555555555555556,
             "#d8576b"
            ],
            [
             0.6666666666666666,
             "#ed7953"
            ],
            [
             0.7777777777777778,
             "#fb9f3a"
            ],
            [
             0.8888888888888888,
             "#fdca26"
            ],
            [
             1,
             "#f0f921"
            ]
           ],
           "sequentialminus": [
            [
             0,
             "#0d0887"
            ],
            [
             0.1111111111111111,
             "#46039f"
            ],
            [
             0.2222222222222222,
             "#7201a8"
            ],
            [
             0.3333333333333333,
             "#9c179e"
            ],
            [
             0.4444444444444444,
             "#bd3786"
            ],
            [
             0.5555555555555556,
             "#d8576b"
            ],
            [
             0.6666666666666666,
             "#ed7953"
            ],
            [
             0.7777777777777778,
             "#fb9f3a"
            ],
            [
             0.8888888888888888,
             "#fdca26"
            ],
            [
             1,
             "#f0f921"
            ]
           ]
          },
          "colorway": [
           "#636efa",
           "#EF553B",
           "#00cc96",
           "#ab63fa",
           "#FFA15A",
           "#19d3f3",
           "#FF6692",
           "#B6E880",
           "#FF97FF",
           "#FECB52"
          ],
          "font": {
           "color": "#2a3f5f"
          },
          "geo": {
           "bgcolor": "white",
           "lakecolor": "white",
           "landcolor": "#E5ECF6",
           "showlakes": true,
           "showland": true,
           "subunitcolor": "white"
          },
          "hoverlabel": {
           "align": "left"
          },
          "hovermode": "closest",
          "mapbox": {
           "style": "light"
          },
          "paper_bgcolor": "white",
          "plot_bgcolor": "#E5ECF6",
          "polar": {
           "angularaxis": {
            "gridcolor": "white",
            "linecolor": "white",
            "ticks": ""
           },
           "bgcolor": "#E5ECF6",
           "radialaxis": {
            "gridcolor": "white",
            "linecolor": "white",
            "ticks": ""
           }
          },
          "scene": {
           "xaxis": {
            "backgroundcolor": "#E5ECF6",
            "gridcolor": "white",
            "gridwidth": 2,
            "linecolor": "white",
            "showbackground": true,
            "ticks": "",
            "zerolinecolor": "white"
           },
           "yaxis": {
            "backgroundcolor": "#E5ECF6",
            "gridcolor": "white",
            "gridwidth": 2,
            "linecolor": "white",
            "showbackground": true,
            "ticks": "",
            "zerolinecolor": "white"
           },
           "zaxis": {
            "backgroundcolor": "#E5ECF6",
            "gridcolor": "white",
            "gridwidth": 2,
            "linecolor": "white",
            "showbackground": true,
            "ticks": "",
            "zerolinecolor": "white"
           }
          },
          "shapedefaults": {
           "line": {
            "color": "#2a3f5f"
           }
          },
          "ternary": {
           "aaxis": {
            "gridcolor": "white",
            "linecolor": "white",
            "ticks": ""
           },
           "baxis": {
            "gridcolor": "white",
            "linecolor": "white",
            "ticks": ""
           },
           "bgcolor": "#E5ECF6",
           "caxis": {
            "gridcolor": "white",
            "linecolor": "white",
            "ticks": ""
           }
          },
          "title": {
           "x": 0.05
          },
          "xaxis": {
           "automargin": true,
           "gridcolor": "white",
           "linecolor": "white",
           "ticks": "",
           "title": {
            "standoff": 15
           },
           "zerolinecolor": "white",
           "zerolinewidth": 2
          },
          "yaxis": {
           "automargin": true,
           "gridcolor": "white",
           "linecolor": "white",
           "ticks": "",
           "title": {
            "standoff": 15
           },
           "zerolinecolor": "white",
           "zerolinewidth": 2
          }
         }
        }
       }
      },
      "text/html": [
       "<div>                            <div id=\"a07f713d-a2fb-4374-baef-9b26b4ca6eb8\" class=\"plotly-graph-div\" style=\"height:525px; width:100%;\"></div>            <script type=\"text/javascript\">                require([\"plotly\"], function(Plotly) {                    window.PLOTLYENV=window.PLOTLYENV || {};                                    if (document.getElementById(\"a07f713d-a2fb-4374-baef-9b26b4ca6eb8\")) {                    Plotly.newPlot(                        \"a07f713d-a2fb-4374-baef-9b26b4ca6eb8\",                        [{\"marker\":{\"color\":\"black\"},\"mode\":\"markers\",\"x\":[0.3184536753161593,1.4502933864162864,1.026454310084902,5.234936251107958,4.6571074303025535,0.4374655324254804,-0.1275637335410391,4.182007377317207,1.6564667176545735,-0.6950800639820207,6.0134801391760275,0.20099208046698847,-0.3826822200047082,5.033945542927854,1.5388911872676638,0.8144861668441575,1.7219242968306172,4.907577863721775,0.6051206574714367,1.308678649673432,0.19570654451694233,3.970781806990217,0.4719077699164933,1.3215701709396734,3.899884594242504,0.11205488420411017,0.4071731523909162,0.5623153181748621,1.8211351536378146,-0.7757823236462338,0.4503246869568499,2.250244308798341,1.4715778937648225,-0.04209930489300073,1.183488823964057,5.522019538589874,0.6901211520024002,0.021260637387977177,5.32547107387108,2.5860545202426644,0.18216100303960195,0.11836846389189448,0.6608353243427534,1.9165933424589707,0.2848770609414489,0.47644960381392076,3.1045328669345094,-0.8537610534618991,0.08542074405839063,0.21418408274369993,-0.29932464458974967,2.2583590399691547,4.7735826316203465,0.7309344410594387,0.3925048707335872,0.8949198007386893,-0.2576700109384761,0.5504276741516845,-0.34493740933826084,4.716325151834037,1.678200520514591,1.486216903371305,5.466251268448635,-1.3384604843111583,0.014584549689281188,1.496051160209164,5.759631759161124,1.7038059134067731,4.763285451297276,0.8945073048230913,1.6127983081204125,-0.20028537305943783,-0.7914769481995888,1.3333780843530982,1.8154564282439223,1.0289401910634917,-0.191420104889179,1.455892257786041,2.2360344304803688,0.32608726280511346,-0.18786611015283242,4.299318541994496,0.49849313474511137,-0.8336477967955469,-0.5779509136103516,1.8329299305721931,1.0173680637851088,0.4849306430764583,-0.47669161504140656,0.9649431222513726,1.0499915114711693,1.174589205389432,0.046383556107638196,1.667424785981581,0.9437238941641181,5.63522868277856,0.5269967918061942,4.804266367153077,-0.0032154069033205612,1.389491646685452],\"y\":[5.031820987994134,2.1571757338038555,4.760423750357582,-0.8113885084088557,-0.0853235111327005,4.937783846314816,5.142962934635237,0.24819246712183082,-0.879913691115459,5.038489758770109,1.8772266609008628,-0.9321320348336188,0.26365373562872096,-1.6674098564396704,-0.12731715062251725,1.6354370877015885,0.28460714616963345,0.5671608835962734,4.875551245933439,-0.5871104472980668,5.7383661173299085,0.39328234274399526,1.4763730921310587,0.5648636844960819,0.92433203507217,6.40720119597291,1.671344853831941,5.013498641517735,0.7889222287183857,4.62650897770956,-1.0109958300596937,0.6483292058156411,1.683870468559705,0.5092315782574983,0.5697822783586981,0.46015202253477294,1.4008522100124239,4.762284955695681,1.4685636915057174,2.1194444802427475,4.445777113392441,-0.33361633377170374,1.0387914129700249,0.6373938121529866,4.566536604102805,5.725813269072339,2.199974231165399,4.173894019133064,4.387816141851451,5.601314323068712,4.625746833073183,1.1068076049870847,-0.06002466152925507,1.4022008203750376,0.5713356216439031,1.930078804528788,4.118516191402143,0.2176290381999566,4.5709877551156435,0.6329343750026635,1.291119177180072,-0.07691203922584045,0.011842579092871827,-0.2004755468240218,5.568591603765425,4.829404355670757,-0.13066323365962937,1.3137612857496417,-0.33344549336700563,-1.1303624329297666,0.6679290853588488,5.034985199051299,4.724036141413251,1.4279489993033267,2.3705276827286923,3.2126240124751217,4.030204137623865,0.8532913947032877,0.8771009704246349,0.09240739174912616,5.850995965791804,1.3542873747822297,0.6844437722055008,5.817455081486682,-1.66742630110895,0.7963827048263876,0.8455941040063986,0.45675926385983534,3.9154216702630626,0.6566317527751071,0.3835034870309848,0.730662382334542,4.861969432474718,1.541811870971261,1.3211704706276415,-0.013884904893185392,5.373017386379516,0.8017483025667462,0.20836910409903864,0.9502054525359745],\"type\":\"scatter\"}],                        {\"font\":{\"size\":16},\"template\":{\"data\":{\"histogram2dcontour\":[{\"type\":\"histogram2dcontour\",\"colorbar\":{\"outlinewidth\":0,\"ticks\":\"\"},\"colorscale\":[[0.0,\"#0d0887\"],[0.1111111111111111,\"#46039f\"],[0.2222222222222222,\"#7201a8\"],[0.3333333333333333,\"#9c179e\"],[0.4444444444444444,\"#bd3786\"],[0.5555555555555556,\"#d8576b\"],[0.6666666666666666,\"#ed7953\"],[0.7777777777777778,\"#fb9f3a\"],[0.8888888888888888,\"#fdca26\"],[1.0,\"#f0f921\"]]}],\"choropleth\":[{\"type\":\"choropleth\",\"colorbar\":{\"outlinewidth\":0,\"ticks\":\"\"}}],\"histogram2d\":[{\"type\":\"histogram2d\",\"colorbar\":{\"outlinewidth\":0,\"ticks\":\"\"},\"colorscale\":[[0.0,\"#0d0887\"],[0.1111111111111111,\"#46039f\"],[0.2222222222222222,\"#7201a8\"],[0.3333333333333333,\"#9c179e\"],[0.4444444444444444,\"#bd3786\"],[0.5555555555555556,\"#d8576b\"],[0.6666666666666666,\"#ed7953\"],[0.7777777777777778,\"#fb9f3a\"],[0.8888888888888888,\"#fdca26\"],[1.0,\"#f0f921\"]]}],\"heatmap\":[{\"type\":\"heatmap\",\"colorbar\":{\"outlinewidth\":0,\"ticks\":\"\"},\"colorscale\":[[0.0,\"#0d0887\"],[0.1111111111111111,\"#46039f\"],[0.2222222222222222,\"#7201a8\"],[0.3333333333333333,\"#9c179e\"],[0.4444444444444444,\"#bd3786\"],[0.5555555555555556,\"#d8576b\"],[0.6666666666666666,\"#ed7953\"],[0.7777777777777778,\"#fb9f3a\"],[0.8888888888888888,\"#fdca26\"],[1.0,\"#f0f921\"]]}],\"heatmapgl\":[{\"type\":\"heatmapgl\",\"colorbar\":{\"outlinewidth\":0,\"ticks\":\"\"},\"colorscale\":[[0.0,\"#0d0887\"],[0.1111111111111111,\"#46039f\"],[0.2222222222222222,\"#7201a8\"],[0.3333333333333333,\"#9c179e\"],[0.4444444444444444,\"#bd3786\"],[0.5555555555555556,\"#d8576b\"],[0.6666666666666666,\"#ed7953\"],[0.7777777777777778,\"#fb9f3a\"],[0.8888888888888888,\"#fdca26\"],[1.0,\"#f0f921\"]]}],\"contourcarpet\":[{\"type\":\"contourcarpet\",\"colorbar\":{\"outlinewidth\":0,\"ticks\":\"\"}}],\"contour\":[{\"type\":\"contour\",\"colorbar\":{\"outlinewidth\":0,\"ticks\":\"\"},\"colorscale\":[[0.0,\"#0d0887\"],[0.1111111111111111,\"#46039f\"],[0.2222222222222222,\"#7201a8\"],[0.3333333333333333,\"#9c179e\"],[0.4444444444444444,\"#bd3786\"],[0.5555555555555556,\"#d8576b\"],[0.6666666666666666,\"#ed7953\"],[0.7777777777777778,\"#fb9f3a\"],[0.8888888888888888,\"#fdca26\"],[1.0,\"#f0f921\"]]}],\"surface\":[{\"type\":\"surface\",\"colorbar\":{\"outlinewidth\":0,\"ticks\":\"\"},\"colorscale\":[[0.0,\"#0d0887\"],[0.1111111111111111,\"#46039f\"],[0.2222222222222222,\"#7201a8\"],[0.3333333333333333,\"#9c179e\"],[0.4444444444444444,\"#bd3786\"],[0.5555555555555556,\"#d8576b\"],[0.6666666666666666,\"#ed7953\"],[0.7777777777777778,\"#fb9f3a\"],[0.8888888888888888,\"#fdca26\"],[1.0,\"#f0f921\"]]}],\"mesh3d\":[{\"type\":\"mesh3d\",\"colorbar\":{\"outlinewidth\":0,\"ticks\":\"\"}}],\"scatter\":[{\"fillpattern\":{\"fillmode\":\"overlay\",\"size\":10,\"solidity\":0.2},\"type\":\"scatter\"}],\"parcoords\":[{\"type\":\"parcoords\",\"line\":{\"colorbar\":{\"outlinewidth\":0,\"ticks\":\"\"}}}],\"scatterpolargl\":[{\"type\":\"scatterpolargl\",\"marker\":{\"colorbar\":{\"outlinewidth\":0,\"ticks\":\"\"}}}],\"bar\":[{\"error_x\":{\"color\":\"#2a3f5f\"},\"error_y\":{\"color\":\"#2a3f5f\"},\"marker\":{\"line\":{\"color\":\"#E5ECF6\",\"width\":0.5},\"pattern\":{\"fillmode\":\"overlay\",\"size\":10,\"solidity\":0.2}},\"type\":\"bar\"}],\"scattergeo\":[{\"type\":\"scattergeo\",\"marker\":{\"colorbar\":{\"outlinewidth\":0,\"ticks\":\"\"}}}],\"scatterpolar\":[{\"type\":\"scatterpolar\",\"marker\":{\"colorbar\":{\"outlinewidth\":0,\"ticks\":\"\"}}}],\"histogram\":[{\"marker\":{\"pattern\":{\"fillmode\":\"overlay\",\"size\":10,\"solidity\":0.2}},\"type\":\"histogram\"}],\"scattergl\":[{\"type\":\"scattergl\",\"marker\":{\"colorbar\":{\"outlinewidth\":0,\"ticks\":\"\"}}}],\"scatter3d\":[{\"type\":\"scatter3d\",\"line\":{\"colorbar\":{\"outlinewidth\":0,\"ticks\":\"\"}},\"marker\":{\"colorbar\":{\"outlinewidth\":0,\"ticks\":\"\"}}}],\"scattermapbox\":[{\"type\":\"scattermapbox\",\"marker\":{\"colorbar\":{\"outlinewidth\":0,\"ticks\":\"\"}}}],\"scatterternary\":[{\"type\":\"scatterternary\",\"marker\":{\"colorbar\":{\"outlinewidth\":0,\"ticks\":\"\"}}}],\"scattercarpet\":[{\"type\":\"scattercarpet\",\"marker\":{\"colorbar\":{\"outlinewidth\":0,\"ticks\":\"\"}}}],\"carpet\":[{\"aaxis\":{\"endlinecolor\":\"#2a3f5f\",\"gridcolor\":\"white\",\"linecolor\":\"white\",\"minorgridcolor\":\"white\",\"startlinecolor\":\"#2a3f5f\"},\"baxis\":{\"endlinecolor\":\"#2a3f5f\",\"gridcolor\":\"white\",\"linecolor\":\"white\",\"minorgridcolor\":\"white\",\"startlinecolor\":\"#2a3f5f\"},\"type\":\"carpet\"}],\"table\":[{\"cells\":{\"fill\":{\"color\":\"#EBF0F8\"},\"line\":{\"color\":\"white\"}},\"header\":{\"fill\":{\"color\":\"#C8D4E3\"},\"line\":{\"color\":\"white\"}},\"type\":\"table\"}],\"barpolar\":[{\"marker\":{\"line\":{\"color\":\"#E5ECF6\",\"width\":0.5},\"pattern\":{\"fillmode\":\"overlay\",\"size\":10,\"solidity\":0.2}},\"type\":\"barpolar\"}],\"pie\":[{\"automargin\":true,\"type\":\"pie\"}]},\"layout\":{\"autotypenumbers\":\"strict\",\"colorway\":[\"#636efa\",\"#EF553B\",\"#00cc96\",\"#ab63fa\",\"#FFA15A\",\"#19d3f3\",\"#FF6692\",\"#B6E880\",\"#FF97FF\",\"#FECB52\"],\"font\":{\"color\":\"#2a3f5f\"},\"hovermode\":\"closest\",\"hoverlabel\":{\"align\":\"left\"},\"paper_bgcolor\":\"white\",\"plot_bgcolor\":\"#E5ECF6\",\"polar\":{\"bgcolor\":\"#E5ECF6\",\"angularaxis\":{\"gridcolor\":\"white\",\"linecolor\":\"white\",\"ticks\":\"\"},\"radialaxis\":{\"gridcolor\":\"white\",\"linecolor\":\"white\",\"ticks\":\"\"}},\"ternary\":{\"bgcolor\":\"#E5ECF6\",\"aaxis\":{\"gridcolor\":\"white\",\"linecolor\":\"white\",\"ticks\":\"\"},\"baxis\":{\"gridcolor\":\"white\",\"linecolor\":\"white\",\"ticks\":\"\"},\"caxis\":{\"gridcolor\":\"white\",\"linecolor\":\"white\",\"ticks\":\"\"}},\"coloraxis\":{\"colorbar\":{\"outlinewidth\":0,\"ticks\":\"\"}},\"colorscale\":{\"sequential\":[[0.0,\"#0d0887\"],[0.1111111111111111,\"#46039f\"],[0.2222222222222222,\"#7201a8\"],[0.3333333333333333,\"#9c179e\"],[0.4444444444444444,\"#bd3786\"],[0.5555555555555556,\"#d8576b\"],[0.6666666666666666,\"#ed7953\"],[0.7777777777777778,\"#fb9f3a\"],[0.8888888888888888,\"#fdca26\"],[1.0,\"#f0f921\"]],\"sequentialminus\":[[0.0,\"#0d0887\"],[0.1111111111111111,\"#46039f\"],[0.2222222222222222,\"#7201a8\"],[0.3333333333333333,\"#9c179e\"],[0.4444444444444444,\"#bd3786\"],[0.5555555555555556,\"#d8576b\"],[0.6666666666666666,\"#ed7953\"],[0.7777777777777778,\"#fb9f3a\"],[0.8888888888888888,\"#fdca26\"],[1.0,\"#f0f921\"]],\"diverging\":[[0,\"#8e0152\"],[0.1,\"#c51b7d\"],[0.2,\"#de77ae\"],[0.3,\"#f1b6da\"],[0.4,\"#fde0ef\"],[0.5,\"#f7f7f7\"],[0.6,\"#e6f5d0\"],[0.7,\"#b8e186\"],[0.8,\"#7fbc41\"],[0.9,\"#4d9221\"],[1,\"#276419\"]]},\"xaxis\":{\"gridcolor\":\"white\",\"linecolor\":\"white\",\"ticks\":\"\",\"title\":{\"standoff\":15},\"zerolinecolor\":\"white\",\"automargin\":true,\"zerolinewidth\":2},\"yaxis\":{\"gridcolor\":\"white\",\"linecolor\":\"white\",\"ticks\":\"\",\"title\":{\"standoff\":15},\"zerolinecolor\":\"white\",\"automargin\":true,\"zerolinewidth\":2},\"scene\":{\"xaxis\":{\"backgroundcolor\":\"#E5ECF6\",\"gridcolor\":\"white\",\"linecolor\":\"white\",\"showbackground\":true,\"ticks\":\"\",\"zerolinecolor\":\"white\",\"gridwidth\":2},\"yaxis\":{\"backgroundcolor\":\"#E5ECF6\",\"gridcolor\":\"white\",\"linecolor\":\"white\",\"showbackground\":true,\"ticks\":\"\",\"zerolinecolor\":\"white\",\"gridwidth\":2},\"zaxis\":{\"backgroundcolor\":\"#E5ECF6\",\"gridcolor\":\"white\",\"linecolor\":\"white\",\"showbackground\":true,\"ticks\":\"\",\"zerolinecolor\":\"white\",\"gridwidth\":2}},\"shapedefaults\":{\"line\":{\"color\":\"#2a3f5f\"}},\"annotationdefaults\":{\"arrowcolor\":\"#2a3f5f\",\"arrowhead\":0,\"arrowwidth\":1},\"geo\":{\"bgcolor\":\"white\",\"landcolor\":\"#E5ECF6\",\"subunitcolor\":\"white\",\"showland\":true,\"showlakes\":true,\"lakecolor\":\"white\"},\"title\":{\"x\":0.05},\"mapbox\":{\"style\":\"light\"}}}},                        {\"responsive\": true}                    ).then(function(){\n",
       "                            \n",
       "var gd = document.getElementById('a07f713d-a2fb-4374-baef-9b26b4ca6eb8');\n",
       "var x = new MutationObserver(function (mutations, observer) {{\n",
       "        var display = window.getComputedStyle(gd).display;\n",
       "        if (!display || display === 'none') {{\n",
       "            console.log([gd, 'removed!']);\n",
       "            Plotly.purge(gd);\n",
       "            observer.disconnect();\n",
       "        }}\n",
       "}});\n",
       "\n",
       "// Listen for the removal of the full notebook cells\n",
       "var notebookContainer = gd.closest('#notebook-container');\n",
       "if (notebookContainer) {{\n",
       "    x.observe(notebookContainer, {childList: true});\n",
       "}}\n",
       "\n",
       "// Listen for the clearing of the current output cell\n",
       "var outputEl = gd.closest('.output');\n",
       "if (outputEl) {{\n",
       "    x.observe(outputEl, {childList: true});\n",
       "}}\n",
       "\n",
       "                        })                };                });            </script>        </div>"
      ]
     },
     "metadata": {},
     "output_type": "display_data"
    }
   ],
   "source": [
    "import plotly.graph_objs as go\n",
    "import numpy as np\n",
    "\n",
    "# Assuming 'data' is already defined\n",
    "d = np.vstack(data)\n",
    "\n",
    "# Create a scatter plot\n",
    "scatter = go.Scatter(x=d[:, 0], y=d[:, 1], mode='markers', marker=dict(color='black'))\n",
    "\n",
    "# Set the layout with font size\n",
    "layout = go.Layout(font=dict(size=16))\n",
    "\n",
    "# Create the Figure with the scatter plot and layout\n",
    "fig = go.Figure(data=[scatter], layout=layout)\n",
    "\n",
    "# Show the figure\n",
    "fig.show()"
   ]
  },
  {
   "cell_type": "code",
   "execution_count": 35,
   "id": "a7353b81",
   "metadata": {},
   "outputs": [
    {
     "data": {
      "text/plain": [
       "array([1])"
      ]
     },
     "execution_count": 35,
     "metadata": {},
     "output_type": "execute_result"
    }
   ],
   "source": [
    "# experiment with np.random.choice\n",
    "init_weights = [1/4., 1/2., 1/4.]\n",
    "k = np.random.choice(len(weights), 1, p=weights)\n",
    "k"
   ]
  },
  {
   "cell_type": "code",
   "execution_count": 36,
   "id": "13eacce5",
   "metadata": {},
   "outputs": [
    {
     "name": "stdout",
     "output_type": "stream",
     "text": [
      "data [[ 3.18453675e-01  5.03182099e+00]\n",
      " [ 1.45029339e+00  2.15717573e+00]\n",
      " [ 1.02645431e+00  4.76042375e+00]\n",
      " [ 5.23493625e+00 -8.11388508e-01]\n",
      " [ 4.65710743e+00 -8.53235111e-02]\n",
      " [ 4.37465532e-01  4.93778385e+00]\n",
      " [-1.27563734e-01  5.14296293e+00]\n",
      " [ 4.18200738e+00  2.48192467e-01]\n",
      " [ 1.65646672e+00 -8.79913691e-01]\n",
      " [-6.95080064e-01  5.03848976e+00]\n",
      " [ 6.01348014e+00  1.87722666e+00]\n",
      " [ 2.00992080e-01 -9.32132035e-01]\n",
      " [-3.82682220e-01  2.63653736e-01]\n",
      " [ 5.03394554e+00 -1.66740986e+00]\n",
      " [ 1.53889119e+00 -1.27317151e-01]\n",
      " [ 8.14486167e-01  1.63543709e+00]\n",
      " [ 1.72192430e+00  2.84607146e-01]\n",
      " [ 4.90757786e+00  5.67160884e-01]\n",
      " [ 6.05120657e-01  4.87555125e+00]\n",
      " [ 1.30867865e+00 -5.87110447e-01]\n",
      " [ 1.95706545e-01  5.73836612e+00]\n",
      " [ 3.97078181e+00  3.93282343e-01]\n",
      " [ 4.71907770e-01  1.47637309e+00]\n",
      " [ 1.32157017e+00  5.64863684e-01]\n",
      " [ 3.89988459e+00  9.24332035e-01]\n",
      " [ 1.12054884e-01  6.40720120e+00]\n",
      " [ 4.07173152e-01  1.67134485e+00]\n",
      " [ 5.62315318e-01  5.01349864e+00]\n",
      " [ 1.82113515e+00  7.88922229e-01]\n",
      " [-7.75782324e-01  4.62650898e+00]\n",
      " [ 4.50324687e-01 -1.01099583e+00]\n",
      " [ 2.25024431e+00  6.48329206e-01]\n",
      " [ 1.47157789e+00  1.68387047e+00]\n",
      " [-4.20993049e-02  5.09231578e-01]\n",
      " [ 1.18348882e+00  5.69782278e-01]\n",
      " [ 5.52201954e+00  4.60152023e-01]\n",
      " [ 6.90121152e-01  1.40085221e+00]\n",
      " [ 2.12606374e-02  4.76228496e+00]\n",
      " [ 5.32547107e+00  1.46856369e+00]\n",
      " [ 2.58605452e+00  2.11944448e+00]\n",
      " [ 1.82161003e-01  4.44577711e+00]\n",
      " [ 1.18368464e-01 -3.33616334e-01]\n",
      " [ 6.60835324e-01  1.03879141e+00]\n",
      " [ 1.91659334e+00  6.37393812e-01]\n",
      " [ 2.84877061e-01  4.56653660e+00]\n",
      " [ 4.76449604e-01  5.72581327e+00]\n",
      " [ 3.10453287e+00  2.19997423e+00]\n",
      " [-8.53761053e-01  4.17389402e+00]\n",
      " [ 8.54207441e-02  4.38781614e+00]\n",
      " [ 2.14184083e-01  5.60131432e+00]\n",
      " [-2.99324645e-01  4.62574683e+00]\n",
      " [ 2.25835904e+00  1.10680760e+00]\n",
      " [ 4.77358263e+00 -6.00246615e-02]\n",
      " [ 7.30934441e-01  1.40220082e+00]\n",
      " [ 3.92504871e-01  5.71335622e-01]\n",
      " [ 8.94919801e-01  1.93007880e+00]\n",
      " [-2.57670011e-01  4.11851619e+00]\n",
      " [ 5.50427674e-01  2.17629038e-01]\n",
      " [-3.44937409e-01  4.57098776e+00]\n",
      " [ 4.71632515e+00  6.32934375e-01]\n",
      " [ 1.67820052e+00  1.29111918e+00]\n",
      " [ 1.48621690e+00 -7.69120392e-02]\n",
      " [ 5.46625127e+00  1.18425791e-02]\n",
      " [-1.33846048e+00 -2.00475547e-01]\n",
      " [ 1.45845497e-02  5.56859160e+00]\n",
      " [ 1.49605116e+00  4.82940436e+00]\n",
      " [ 5.75963176e+00 -1.30663234e-01]\n",
      " [ 1.70380591e+00  1.31376129e+00]\n",
      " [ 4.76328545e+00 -3.33445493e-01]\n",
      " [ 8.94507305e-01 -1.13036243e+00]\n",
      " [ 1.61279831e+00  6.67929085e-01]\n",
      " [-2.00285373e-01  5.03498520e+00]\n",
      " [-7.91476948e-01  4.72403614e+00]\n",
      " [ 1.33337808e+00  1.42794900e+00]\n",
      " [ 1.81545643e+00  2.37052768e+00]\n",
      " [ 1.02894019e+00  3.21262401e+00]\n",
      " [-1.91420105e-01  4.03020414e+00]\n",
      " [ 1.45589226e+00  8.53291395e-01]\n",
      " [ 2.23603443e+00  8.77100970e-01]\n",
      " [ 3.26087263e-01  9.24073917e-02]\n",
      " [-1.87866110e-01  5.85099597e+00]\n",
      " [ 4.29931854e+00  1.35428737e+00]\n",
      " [ 4.98493135e-01  6.84443772e-01]\n",
      " [-8.33647797e-01  5.81745508e+00]\n",
      " [-5.77950914e-01 -1.66742630e+00]\n",
      " [ 1.83292993e+00  7.96382705e-01]\n",
      " [ 1.01736806e+00  8.45594104e-01]\n",
      " [ 4.84930643e-01  4.56759264e-01]\n",
      " [-4.76691615e-01  3.91542167e+00]\n",
      " [ 9.64943122e-01  6.56631753e-01]\n",
      " [ 1.04999151e+00  3.83503487e-01]\n",
      " [ 1.17458921e+00  7.30662382e-01]\n",
      " [ 4.63835561e-02  4.86196943e+00]\n",
      " [ 1.66742479e+00  1.54181187e+00]\n",
      " [ 9.43723894e-01  1.32117047e+00]\n",
      " [ 5.63522868e+00 -1.38849049e-02]\n",
      " [ 5.26996792e-01  5.37301739e+00]\n",
      " [ 4.80426637e+00  8.01748303e-01]\n",
      " [-3.21540690e-03  2.08369104e-01]\n",
      " [ 1.38949165e+00  9.50205453e-01]]\n"
     ]
    }
   ],
   "source": [
    "print(\"data\", np.array(data))"
   ]
  },
  {
   "cell_type": "code",
   "execution_count": 60,
   "id": "a23ca955",
   "metadata": {},
   "outputs": [],
   "source": [
    "np.random.seed(4)\n",
    "\n",
    "# Initialization of parameters\n",
    "chosen = np.random.choice(len(data), 3, replace=False)\n",
    "initial_means = [data[x] for x in chosen]\n",
    "initial_covs = [np.cov(data, rowvar=0)] * 3\n",
    "initial_weights = [1/3.] * 3\n",
    "\n"
   ]
  },
  {
   "cell_type": "code",
   "execution_count": null,
   "id": "d5a52608",
   "metadata": {},
   "outputs": [],
   "source": []
  },
  {
   "cell_type": "markdown",
   "id": "63f1a677",
   "metadata": {},
   "source": [
    "## Plot initial covariancees and Mean"
   ]
  },
  {
   "cell_type": "code",
   "execution_count": 61,
   "id": "34de7f1c",
   "metadata": {},
   "outputs": [
    {
     "data": {
      "image/png": "[encoded data removed]",
      "text/plain": [
       "<Figure size 640x480 with 1 Axes>"
      ]
     },
     "metadata": {},
     "output_type": "display_data"
    }
   ],
   "source": [
    "import matplotlib.mlab as mlab\n",
    "from scipy.stats import multivariate_normal\n",
    "def plot_contours(data, means, covs, title):\n",
    "    plt.figure()\n",
    "    plt.plot([x[0] for x in data], [y[1] for y in data],'ko') # data\n",
    "\n",
    "    delta = 0.025\n",
    "    k = len(means)\n",
    "    x = np.arange(-2.0, 7.0, delta)\n",
    "    y = np.arange(-2.0, 7.0, delta)\n",
    "    X, Y = np.meshgrid(x, y)\n",
    "    col = ['green', 'red', 'indigo']\n",
    "    for i in range(k):\n",
    "        mean = means[i]\n",
    "        cov = covs[i]\n",
    "        sigmax = np.sqrt(cov[0][0])\n",
    "        sigmay = np.sqrt(cov[1][1])\n",
    "        sigmaxy = cov[0][1]/(sigmax*sigmay)\n",
    "        rv = multivariate_normal(mean, cov)\n",
    "\n",
    "        # Evaluate the PDF on a grid of points\n",
    "        Z = rv.pdf(np.dstack((X, Y)))\n",
    "#         Z = mlab.bivariate_normal(X, Y, sigmax, sigmay, mean[0], mean[1], sigmaxy)\n",
    "        plt.contour(X, Y, Z, colors = col[i])\n",
    "        plt.title(title)\n",
    "    plt.rcParams.update({'font.size':16})\n",
    "    plt.tight_layout()\n",
    "    \n",
    "plot_contours(data, initial_means, initial_covs, 'Initial clusters')"
   ]
  },
  {
   "cell_type": "markdown",
   "id": "601a9cdc",
   "metadata": {},
   "source": [
    "## run EM, find out final clusters and Mean"
   ]
  },
  {
   "cell_type": "code",
   "execution_count": 62,
   "id": "bb39ee07",
   "metadata": {},
   "outputs": [
    {
     "name": "stdout",
     "output_type": "stream",
     "text": [
      "Iteration 0\n",
      "Iteration 5\n",
      "Iteration 10\n",
      "Iteration 15\n",
      "Iteration 20\n",
      "Iteration 22\n"
     ]
    }
   ],
   "source": [
    "# Run EM \n",
    "results = EM(data, initial_means, initial_covs, initial_weights)"
   ]
  },
  {
   "cell_type": "code",
   "execution_count": 63,
   "id": "09fbb00d",
   "metadata": {},
   "outputs": [
    {
     "data": {
      "image/png": "[encoded data removed]",
      "text/plain": [
       "<Figure size 640x480 with 1 Axes>"
      ]
     },
     "metadata": {},
     "output_type": "display_data"
    }
   ],
   "source": [
    "\n",
    "plot_contours(data, results['means'], results['covs'], 'Final clusters')"
   ]
  },
  {
   "cell_type": "code",
   "execution_count": 64,
   "id": "515571d3",
   "metadata": {},
   "outputs": [
    {
     "data": {
      "image/png": "[encoded data removed]",
      "text/plain": [
       "<Figure size 640x480 with 1 Axes>"
      ]
     },
     "metadata": {},
     "output_type": "display_data"
    }
   ],
   "source": [
    "\n",
    "loglikelihoods = results['loglik']\n",
    "plt.plot(range(len(loglikelihoods)), loglikelihoods, linewidth=4)\n",
    "plt.xlabel('Iteration')\n",
    "plt.ylabel('Log-likelihood')\n",
    "plt.rcParams.update({'font.size':16})\n",
    "plt.tight_layout()"
   ]
  },
  {
   "cell_type": "code",
   "execution_count": null,
   "id": "ca2303e9",
   "metadata": {},
   "outputs": [],
   "source": []
  }
 ],
 "metadata": {
  "kernelspec": {
   "display_name": "Python 3 (ipykernel)",
   "language": "python",
   "name": "python3"
  },
  "language_info": {
   "codemirror_mode": {
    "name": "ipython",
    "version": 3
   },
   "file_extension": ".py",
   "mimetype": "text/x-python",
   "name": "python",
   "nbconvert_exporter": "python",
   "pygments_lexer": "ipython3",
   "version": "3.9.13"
  }
 },
 "nbformat": 4,
 "nbformat_minor": 5
}
